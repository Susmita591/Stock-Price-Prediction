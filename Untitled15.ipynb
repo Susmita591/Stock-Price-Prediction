{
  "nbformat": 4,
  "nbformat_minor": 0,
  "metadata": {
    "colab": {
      "provenance": [],
      "include_colab_link": true
    },
    "kernelspec": {
      "name": "python3",
      "display_name": "Python 3"
    },
    "language_info": {
      "name": "python"
    }
  },
  "cells": [
    {
      "cell_type": "markdown",
      "metadata": {
        "id": "view-in-github",
        "colab_type": "text"
      },
      "source": [
        "<a href=\"https://colab.research.google.com/github/Susmita591/Stock-Price-Prediction/blob/main/Untitled15.ipynb\" target=\"_parent\"><img src=\"https://colab.research.google.com/assets/colab-badge.svg\" alt=\"Open In Colab\"/></a>"
      ]
    },
    {
      "cell_type": "code",
      "source": [
        "import numpy as np\n",
        "import pandas as pd\n",
        "from datetime import datetime\n",
        "\n",
        "# List of sample Indian stock tickers\n",
        "tickers = [\n",
        "    \"RELIANCE\", \"TCS\", \"INFY\", \"HDFCBANK\", \"ICICIBANK\",\n",
        "    \"SBIN\", \"BHARTIARTL\", \"ITC\", \"LT\", \"AXISBANK\"\n",
        "]\n",
        "\n",
        "# Generate a date range\n",
        "date_range = pd.date_range(start=\"2018-01-01\", end=datetime.today(), freq='B')  # Business days\n",
        "\n",
        "# Function to generate synthetic data for one stock\n",
        "def generate_stock_data(ticker, dates):\n",
        "    np.random.seed(hash(ticker) % 2**32)  # So each stock is reproducible\n",
        "    n = len(dates)\n",
        "    base_price = np.random.uniform(200, 3000)\n",
        "\n",
        "    # Generate random walk for close prices\n",
        "    returns = np.random.normal(0, 0.01, n)\n",
        "    close_prices = base_price * np.cumprod(1 + returns)\n",
        "\n",
        "    # Open = previous close (simulated with some noise)\n",
        "    open_prices = close_prices * np.random.uniform(0.98, 1.02, n)\n",
        "    high_prices = np.maximum(open_prices, close_prices) * np.random.uniform(1.00, 1.03, n)\n",
        "    low_prices = np.minimum(open_prices, close_prices) * np.random.uniform(0.97, 1.00, n)\n",
        "    volume = np.random.randint(100000, 10000000, n)\n",
        "\n",
        "    return pd.DataFrame({\n",
        "        \"Date\": dates,\n",
        "        \"Open\": open_prices,\n",
        "        \"High\": high_prices,\n",
        "        \"Low\": low_prices,\n",
        "        \"Close\": close_prices,\n",
        "        \"Volume\": volume,\n",
        "        \"Ticker\": ticker\n",
        "    })\n",
        "\n",
        "# Generate data for all tickers\n",
        "df_list = [generate_stock_data(ticker, date_range) for ticker in tickers]\n",
        "stock_data = pd.concat(df_list, ignore_index=True)\n",
        "\n",
        "# Save to CSV\n",
        "stock_data.to_csv(\"mock_indian_stocks_dataset.csv\", index=False)\n",
        "print(\"✅ Mock stock dataset saved as 'mock_indian_stocks_dataset.csv'\")\n"
      ],
      "metadata": {
        "colab": {
          "base_uri": "https://localhost:8080/"
        },
        "id": "4J8sx4urnVLZ",
        "outputId": "baaafd14-05b7-4483-b895-22a87f4cfa85"
      },
      "execution_count": 3,
      "outputs": [
        {
          "output_type": "stream",
          "name": "stdout",
          "text": [
            "✅ Mock stock dataset saved as 'mock_indian_stocks_dataset.csv'\n"
          ]
        }
      ]
    },
    {
      "cell_type": "code",
      "source": [
        "import pandas as pd\n",
        "import numpy as np\n",
        "from sklearn.ensemble import RandomForestRegressor\n",
        "from sklearn.model_selection import train_test_split\n",
        "from sklearn.metrics import mean_absolute_error\n",
        "import datetime\n",
        "\n",
        "# Load dataset\n",
        "df = pd.read_csv(\"mock_indian_stocks_dataset.csv\")\n",
        "\n",
        "# Convert 'Date' to datetime\n",
        "df['Date'] = pd.to_datetime(df['Date'])\n",
        "\n",
        "# Ask user for a stock ticker\n",
        "available_tickers = df['Ticker'].unique()\n",
        "print(\"Available tickers:\", ', '.join(available_tickers))\n",
        "user_ticker = input(\"Enter the stock ticker you want to predict (e.g., RELIANCE): \").upper()\n",
        "\n",
        "if user_ticker not in available_tickers:\n",
        "    print(\"❌ Invalid ticker! Please run the program again.\")\n",
        "    exit()\n",
        "\n",
        "# Filter for that ticker\n",
        "data = df[df['Ticker'] == user_ticker].copy()\n",
        "\n",
        "# Sort by date\n",
        "data.sort_values(\"Date\", inplace=True)\n",
        "\n",
        "# Feature engineering: create lag features\n",
        "data[\"Prev_Close\"] = data[\"Close\"].shift(1)\n",
        "data[\"MA_5\"] = data[\"Close\"].rolling(5).mean()\n",
        "data[\"MA_10\"] = data[\"Close\"].rolling(10).mean()\n",
        "\n",
        "# Drop missing values due to rolling/shift\n",
        "data.dropna(inplace=True)\n",
        "\n",
        "# Features and target\n",
        "X = data[[\"Open\", \"High\", \"Low\", \"Volume\", \"Prev_Close\", \"MA_5\", \"MA_10\"]]\n",
        "y = data[\"Close\"]\n",
        "\n",
        "# Train/test split\n",
        "X_train, X_test, y_train, y_test = train_test_split(X, y, shuffle=False, test_size=0.2)\n",
        "\n",
        "# Model\n",
        "model = RandomForestRegressor(n_estimators=100, random_state=42)\n",
        "model.fit(X_train, y_train)\n",
        "\n",
        "# Evaluate model\n",
        "preds = model.predict(X_test)\n",
        "mae = mean_absolute_error(y_test, preds)\n",
        "print(f\"📉 Model MAE: {mae:.2f}\")\n",
        "\n",
        "# Predict next day\n",
        "last_row = data.iloc[-1]\n",
        "next_input = pd.DataFrame([{\n",
        "    \"Open\": last_row[\"Open\"],\n",
        "    \"High\": last_row[\"High\"],\n",
        "    \"Low\": last_row[\"Low\"],\n",
        "    \"Volume\": last_row[\"Volume\"],\n",
        "    \"Prev_Close\": last_row[\"Close\"],\n",
        "    \"MA_5\": data[\"Close\"].iloc[-5:].mean(),\n",
        "    \"MA_10\": data[\"Close\"].iloc[-10:].mean()\n",
        "}])\n",
        "\n",
        "next_prediction = model.predict(next_input)[0]\n",
        "print(f\"🔮 Predicted next closing price for {user_ticker}: ₹{next_prediction:.2f}\")\n"
      ],
      "metadata": {
        "colab": {
          "base_uri": "https://localhost:8080/"
        },
        "id": "Zab4lpLvo9qs",
        "outputId": "c4beaf33-3b13-4bc9-eabe-8a246600d6fb"
      },
      "execution_count": 4,
      "outputs": [
        {
          "output_type": "stream",
          "name": "stdout",
          "text": [
            "Available tickers: RELIANCE, TCS, INFY, HDFCBANK, ICICIBANK, SBIN, BHARTIARTL, ITC, LT, AXISBANK\n",
            "Enter the stock ticker you want to predict (e.g., RELIANCE): INFY\n",
            "📉 Model MAE: 229.42\n",
            "🔮 Predicted next closing price for INFY: ₹2355.72\n"
          ]
        }
      ]
    }
  ]
}